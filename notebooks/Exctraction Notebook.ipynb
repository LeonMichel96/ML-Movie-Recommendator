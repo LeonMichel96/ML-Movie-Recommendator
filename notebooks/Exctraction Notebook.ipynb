{
 "cells": [
  {
   "cell_type": "markdown",
   "id": "7adebbe2",
   "metadata": {},
   "source": [
    "# Extraction Notebook"
   ]
  },
  {
   "cell_type": "markdown",
   "id": "320d8a8d",
   "metadata": {},
   "source": [
    "This notebook steps will help to access the gz raw datasets from IMDB, store them in the 'extracted' folder, filter \n",
    "them and store them in the folder \"clean\" in order to access them later."
   ]
  },
  {
   "cell_type": "markdown",
   "id": "c00a57d8",
   "metadata": {},
   "source": [
    "## Extraction Steps"
   ]
  },
  {
   "cell_type": "code",
   "execution_count": 54,
   "id": "63acb25c",
   "metadata": {},
   "outputs": [],
   "source": [
    "import os\n",
    "import gzip\n",
    "import pandas as pd\n",
    "import numpy as np"
   ]
  },
  {
   "cell_type": "code",
   "execution_count": 55,
   "id": "cdb293bd",
   "metadata": {},
   "outputs": [],
   "source": [
    "# Specify directories\n",
    "base_folder = os.getcwd()[:-10]\n",
    "raw_dir = os.path.join(base_folder, 'raw')\n",
    "extracted_dir = os.path.join(base_folder, 'extracted')\n",
    "clean_dir = os.path.join(base_folder, 'clean')"
   ]
  },
  {
   "cell_type": "code",
   "execution_count": 56,
   "id": "33d2720c",
   "metadata": {},
   "outputs": [],
   "source": [
    "files_zipped =['title.ratings.tsv.gz', 'title.basics.tsv.gz', 'title.crew.tsv.gz', 'name.basics.tsv.gz']"
   ]
  },
  {
   "cell_type": "code",
   "execution_count": 57,
   "id": "58dd8daf",
   "metadata": {},
   "outputs": [
    {
     "name": "stderr",
     "output_type": "stream",
     "text": [
      "/var/folders/7t/j9_7cdrd5594tqknpkvcx2gr0000gn/T/ipykernel_21335/2409993370.py:7: DtypeWarning: Columns (4) have mixed types. Specify dtype option on import or set low_memory=False.\n",
      "  df_basics = pd.read_csv(os.path.join(extracted_dir, 'title.basics.tsv'), sep= '\\t')\n"
     ]
    }
   ],
   "source": [
    "# First check if there is already data downloaded\n",
    "files_in_folder = os.listdir(extracted_dir)\n",
    "\n",
    "if 'title.ratings.tsv' in files_in_folder and 'title.basics.tsv' in files_in_folder \\\n",
    "    and 'title.crew.tsv' in files_in_folder and 'name.basics.tsv' in files_in_folder:\n",
    "    df_ratings = pd.read_csv(os.path.join(extracted_dir, 'title.ratings.tsv'), sep= '\\t')\n",
    "    df_basics = pd.read_csv(os.path.join(extracted_dir, 'title.basics.tsv'), sep= '\\t')\n",
    "    df_crew = pd.read_csv(os.path.join(extracted_dir, 'title.crew.tsv'), sep= '\\t')\n",
    "    df_names = pd.read_csv(os.path.join(extracted_dir, 'name.basics.tsv'), sep= '\\t')\n",
    "\n",
    " # If the data has not been downloaded, perform extraction\n",
    "else:\n",
    "    for file in files_zipped:\n",
    "        # Extract zipped content\n",
    "        gzipped_file_path = os.path.join(base_folder, raw_dir, file)\n",
    "\n",
    "        with gzip.open(gzipped_file_path, 'rt') as gzipped_file:\n",
    "        # Specify the path to the extracted TSV file (remove '.gz' extension)\n",
    "            extracted_file_path = os.path.join(extracted_dir, file[:-3])\n",
    "\n",
    "        # Write the extracted content to the TSV file\n",
    "            with open(extracted_file_path, 'w') as extracted_file:\n",
    "                extracted_file.write(gzipped_file.read())\n",
    "\n",
    "            if file == 'title.ratings.tsv.gz':\n",
    "                df_ratings = pd.read_csv(extracted_file_path, sep='\\t')\n",
    "            elif file == 'title.crew.tsv.gz':\n",
    "                df_crew = pd.read_csv(extracted_file_path, sep='\\t')\n",
    "            elif file == 'name.basics.tsv.gz':\n",
    "                df_names = pd.read_csv(extracted_file_path, sep='\\t')\n",
    "            else:\n",
    "                df_basics = pd.read_csv(extracted_file_path, sep='\\t')\n"
   ]
  },
  {
   "cell_type": "markdown",
   "id": "b5708f05",
   "metadata": {},
   "source": [
    "## Merging Steps"
   ]
  },
  {
   "cell_type": "markdown",
   "id": "04dda026",
   "metadata": {},
   "source": [
    "### Basics File"
   ]
  },
  {
   "cell_type": "code",
   "execution_count": 58,
   "id": "16a6cd8c",
   "metadata": {},
   "outputs": [
    {
     "data": {
      "text/html": [
       "<div>\n",
       "<style scoped>\n",
       "    .dataframe tbody tr th:only-of-type {\n",
       "        vertical-align: middle;\n",
       "    }\n",
       "\n",
       "    .dataframe tbody tr th {\n",
       "        vertical-align: top;\n",
       "    }\n",
       "\n",
       "    .dataframe thead th {\n",
       "        text-align: right;\n",
       "    }\n",
       "</style>\n",
       "<table border=\"1\" class=\"dataframe\">\n",
       "  <thead>\n",
       "    <tr style=\"text-align: right;\">\n",
       "      <th></th>\n",
       "      <th>tconst</th>\n",
       "      <th>titleType</th>\n",
       "      <th>primaryTitle</th>\n",
       "      <th>originalTitle</th>\n",
       "      <th>isAdult</th>\n",
       "      <th>startYear</th>\n",
       "      <th>endYear</th>\n",
       "      <th>runtimeMinutes</th>\n",
       "      <th>genres</th>\n",
       "    </tr>\n",
       "  </thead>\n",
       "  <tbody>\n",
       "    <tr>\n",
       "      <th>0</th>\n",
       "      <td>tt0000001</td>\n",
       "      <td>short</td>\n",
       "      <td>Carmencita</td>\n",
       "      <td>Carmencita</td>\n",
       "      <td>0</td>\n",
       "      <td>1894</td>\n",
       "      <td>\\N</td>\n",
       "      <td>1</td>\n",
       "      <td>Documentary,Short</td>\n",
       "    </tr>\n",
       "    <tr>\n",
       "      <th>1</th>\n",
       "      <td>tt0000002</td>\n",
       "      <td>short</td>\n",
       "      <td>Le clown et ses chiens</td>\n",
       "      <td>Le clown et ses chiens</td>\n",
       "      <td>0</td>\n",
       "      <td>1892</td>\n",
       "      <td>\\N</td>\n",
       "      <td>5</td>\n",
       "      <td>Animation,Short</td>\n",
       "    </tr>\n",
       "    <tr>\n",
       "      <th>2</th>\n",
       "      <td>tt0000003</td>\n",
       "      <td>short</td>\n",
       "      <td>Pauvre Pierrot</td>\n",
       "      <td>Pauvre Pierrot</td>\n",
       "      <td>0</td>\n",
       "      <td>1892</td>\n",
       "      <td>\\N</td>\n",
       "      <td>4</td>\n",
       "      <td>Animation,Comedy,Romance</td>\n",
       "    </tr>\n",
       "    <tr>\n",
       "      <th>3</th>\n",
       "      <td>tt0000004</td>\n",
       "      <td>short</td>\n",
       "      <td>Un bon bock</td>\n",
       "      <td>Un bon bock</td>\n",
       "      <td>0</td>\n",
       "      <td>1892</td>\n",
       "      <td>\\N</td>\n",
       "      <td>12</td>\n",
       "      <td>Animation,Short</td>\n",
       "    </tr>\n",
       "    <tr>\n",
       "      <th>4</th>\n",
       "      <td>tt0000005</td>\n",
       "      <td>short</td>\n",
       "      <td>Blacksmith Scene</td>\n",
       "      <td>Blacksmith Scene</td>\n",
       "      <td>0</td>\n",
       "      <td>1893</td>\n",
       "      <td>\\N</td>\n",
       "      <td>1</td>\n",
       "      <td>Comedy,Short</td>\n",
       "    </tr>\n",
       "  </tbody>\n",
       "</table>\n",
       "</div>"
      ],
      "text/plain": [
       "      tconst titleType            primaryTitle           originalTitle  \\\n",
       "0  tt0000001     short              Carmencita              Carmencita   \n",
       "1  tt0000002     short  Le clown et ses chiens  Le clown et ses chiens   \n",
       "2  tt0000003     short          Pauvre Pierrot          Pauvre Pierrot   \n",
       "3  tt0000004     short             Un bon bock             Un bon bock   \n",
       "4  tt0000005     short        Blacksmith Scene        Blacksmith Scene   \n",
       "\n",
       "  isAdult startYear endYear runtimeMinutes                    genres  \n",
       "0       0      1894      \\N              1         Documentary,Short  \n",
       "1       0      1892      \\N              5           Animation,Short  \n",
       "2       0      1892      \\N              4  Animation,Comedy,Romance  \n",
       "3       0      1892      \\N             12           Animation,Short  \n",
       "4       0      1893      \\N              1              Comedy,Short  "
      ]
     },
     "execution_count": 58,
     "metadata": {},
     "output_type": "execute_result"
    }
   ],
   "source": [
    "df_basics.head()"
   ]
  },
  {
   "cell_type": "code",
   "execution_count": 59,
   "id": "03407416",
   "metadata": {},
   "outputs": [],
   "source": [
    "# Consider just movies\n",
    "df_basics = df_basics[df_basics['titleType']=='movie']"
   ]
  },
  {
   "cell_type": "code",
   "execution_count": 60,
   "id": "b69b3c78",
   "metadata": {},
   "outputs": [],
   "source": [
    "# Drop Original Title and end year\n",
    "df_basics.drop(columns=['originalTitle', 'endYear'], inplace= True)"
   ]
  },
  {
   "cell_type": "code",
   "execution_count": 61,
   "id": "2b1206af",
   "metadata": {},
   "outputs": [],
   "source": [
    "# Drop rows with Start year, run time minutes and genres null\n",
    "df_basics = df_basics[df_basics['startYear']!=\"\\\\N\"]\n",
    "df_basics = df_basics[df_basics['runtimeMinutes']!=\"\\\\N\"]\n",
    "df_basics = df_basics[df_basics['genres']!=\"\\\\N\"]"
   ]
  },
  {
   "cell_type": "code",
   "execution_count": 62,
   "id": "3a8d33f7",
   "metadata": {},
   "outputs": [],
   "source": [
    "# Convert startYear, runtimeMinutes  columns to integer\n",
    "df_basics['startYear']=df_basics['startYear'].astype('int32')\n",
    "df_basics['runtimeMinutes']=df_basics['runtimeMinutes'].astype('int32')"
   ]
  },
  {
   "cell_type": "code",
   "execution_count": 63,
   "id": "e43735f2",
   "metadata": {},
   "outputs": [],
   "source": [
    "# Consider just movies filmed between 1970 and 2022\n",
    "df_basics= df_basics[(df_basics['startYear']>1970) & (df_basics['startYear']<2023)]"
   ]
  },
  {
   "cell_type": "code",
   "execution_count": 64,
   "id": "31da5c22",
   "metadata": {},
   "outputs": [],
   "source": [
    "# For cases with more than one genre, keep the first\n",
    "df_basics['genres'] = df_basics['genres'].apply(lambda x: x.split(',')[0] if ',' in str(x) else x)"
   ]
  },
  {
   "cell_type": "markdown",
   "id": "0de1c290",
   "metadata": {},
   "source": [
    "### Crew File"
   ]
  },
  {
   "cell_type": "code",
   "execution_count": 65,
   "id": "b03c8bce",
   "metadata": {},
   "outputs": [
    {
     "data": {
      "text/html": [
       "<div>\n",
       "<style scoped>\n",
       "    .dataframe tbody tr th:only-of-type {\n",
       "        vertical-align: middle;\n",
       "    }\n",
       "\n",
       "    .dataframe tbody tr th {\n",
       "        vertical-align: top;\n",
       "    }\n",
       "\n",
       "    .dataframe thead th {\n",
       "        text-align: right;\n",
       "    }\n",
       "</style>\n",
       "<table border=\"1\" class=\"dataframe\">\n",
       "  <thead>\n",
       "    <tr style=\"text-align: right;\">\n",
       "      <th></th>\n",
       "      <th>tconst</th>\n",
       "      <th>directors</th>\n",
       "      <th>writers</th>\n",
       "    </tr>\n",
       "  </thead>\n",
       "  <tbody>\n",
       "    <tr>\n",
       "      <th>0</th>\n",
       "      <td>tt0000001</td>\n",
       "      <td>nm0005690</td>\n",
       "      <td>\\N</td>\n",
       "    </tr>\n",
       "    <tr>\n",
       "      <th>1</th>\n",
       "      <td>tt0000002</td>\n",
       "      <td>nm0721526</td>\n",
       "      <td>\\N</td>\n",
       "    </tr>\n",
       "    <tr>\n",
       "      <th>2</th>\n",
       "      <td>tt0000003</td>\n",
       "      <td>nm0721526</td>\n",
       "      <td>\\N</td>\n",
       "    </tr>\n",
       "    <tr>\n",
       "      <th>3</th>\n",
       "      <td>tt0000004</td>\n",
       "      <td>nm0721526</td>\n",
       "      <td>\\N</td>\n",
       "    </tr>\n",
       "    <tr>\n",
       "      <th>4</th>\n",
       "      <td>tt0000005</td>\n",
       "      <td>nm0005690</td>\n",
       "      <td>\\N</td>\n",
       "    </tr>\n",
       "  </tbody>\n",
       "</table>\n",
       "</div>"
      ],
      "text/plain": [
       "      tconst  directors writers\n",
       "0  tt0000001  nm0005690      \\N\n",
       "1  tt0000002  nm0721526      \\N\n",
       "2  tt0000003  nm0721526      \\N\n",
       "3  tt0000004  nm0721526      \\N\n",
       "4  tt0000005  nm0005690      \\N"
      ]
     },
     "execution_count": 65,
     "metadata": {},
     "output_type": "execute_result"
    }
   ],
   "source": [
    "df_crew.head()"
   ]
  },
  {
   "cell_type": "code",
   "execution_count": 66,
   "id": "e3c25df7",
   "metadata": {},
   "outputs": [],
   "source": [
    "# Drop Writers\n",
    "df_crew.drop(columns=['writers'], inplace= True)"
   ]
  },
  {
   "cell_type": "markdown",
   "id": "cb39e58c",
   "metadata": {},
   "source": [
    "### Names File"
   ]
  },
  {
   "cell_type": "code",
   "execution_count": 67,
   "id": "6101efc5",
   "metadata": {},
   "outputs": [
    {
     "data": {
      "text/html": [
       "<div>\n",
       "<style scoped>\n",
       "    .dataframe tbody tr th:only-of-type {\n",
       "        vertical-align: middle;\n",
       "    }\n",
       "\n",
       "    .dataframe tbody tr th {\n",
       "        vertical-align: top;\n",
       "    }\n",
       "\n",
       "    .dataframe thead th {\n",
       "        text-align: right;\n",
       "    }\n",
       "</style>\n",
       "<table border=\"1\" class=\"dataframe\">\n",
       "  <thead>\n",
       "    <tr style=\"text-align: right;\">\n",
       "      <th></th>\n",
       "      <th>nconst</th>\n",
       "      <th>primaryName</th>\n",
       "      <th>birthYear</th>\n",
       "      <th>deathYear</th>\n",
       "      <th>primaryProfession</th>\n",
       "      <th>knownForTitles</th>\n",
       "    </tr>\n",
       "  </thead>\n",
       "  <tbody>\n",
       "    <tr>\n",
       "      <th>0</th>\n",
       "      <td>nm0000001</td>\n",
       "      <td>Fred Astaire</td>\n",
       "      <td>1899</td>\n",
       "      <td>1987</td>\n",
       "      <td>soundtrack,actor,miscellaneous</td>\n",
       "      <td>tt0027125,tt0050419,tt0053137,tt0072308</td>\n",
       "    </tr>\n",
       "    <tr>\n",
       "      <th>1</th>\n",
       "      <td>nm0000002</td>\n",
       "      <td>Lauren Bacall</td>\n",
       "      <td>1924</td>\n",
       "      <td>2014</td>\n",
       "      <td>actress,soundtrack</td>\n",
       "      <td>tt0117057,tt0075213,tt0038355,tt0037382</td>\n",
       "    </tr>\n",
       "    <tr>\n",
       "      <th>2</th>\n",
       "      <td>nm0000003</td>\n",
       "      <td>Brigitte Bardot</td>\n",
       "      <td>1934</td>\n",
       "      <td>\\N</td>\n",
       "      <td>actress,soundtrack,music_department</td>\n",
       "      <td>tt0049189,tt0054452,tt0056404,tt0057345</td>\n",
       "    </tr>\n",
       "    <tr>\n",
       "      <th>3</th>\n",
       "      <td>nm0000004</td>\n",
       "      <td>John Belushi</td>\n",
       "      <td>1949</td>\n",
       "      <td>1982</td>\n",
       "      <td>actor,soundtrack,writer</td>\n",
       "      <td>tt0080455,tt0072562,tt0077975,tt0078723</td>\n",
       "    </tr>\n",
       "    <tr>\n",
       "      <th>4</th>\n",
       "      <td>nm0000005</td>\n",
       "      <td>Ingmar Bergman</td>\n",
       "      <td>1918</td>\n",
       "      <td>2007</td>\n",
       "      <td>writer,director,actor</td>\n",
       "      <td>tt0050986,tt0069467,tt0083922,tt0050976</td>\n",
       "    </tr>\n",
       "  </tbody>\n",
       "</table>\n",
       "</div>"
      ],
      "text/plain": [
       "      nconst      primaryName birthYear deathYear  \\\n",
       "0  nm0000001     Fred Astaire      1899      1987   \n",
       "1  nm0000002    Lauren Bacall      1924      2014   \n",
       "2  nm0000003  Brigitte Bardot      1934        \\N   \n",
       "3  nm0000004     John Belushi      1949      1982   \n",
       "4  nm0000005   Ingmar Bergman      1918      2007   \n",
       "\n",
       "                     primaryProfession  \\\n",
       "0       soundtrack,actor,miscellaneous   \n",
       "1                   actress,soundtrack   \n",
       "2  actress,soundtrack,music_department   \n",
       "3              actor,soundtrack,writer   \n",
       "4                writer,director,actor   \n",
       "\n",
       "                            knownForTitles  \n",
       "0  tt0027125,tt0050419,tt0053137,tt0072308  \n",
       "1  tt0117057,tt0075213,tt0038355,tt0037382  \n",
       "2  tt0049189,tt0054452,tt0056404,tt0057345  \n",
       "3  tt0080455,tt0072562,tt0077975,tt0078723  \n",
       "4  tt0050986,tt0069467,tt0083922,tt0050976  "
      ]
     },
     "execution_count": 67,
     "metadata": {},
     "output_type": "execute_result"
    }
   ],
   "source": [
    "df_names.head()"
   ]
  },
  {
   "cell_type": "code",
   "execution_count": 68,
   "id": "cb20103c",
   "metadata": {},
   "outputs": [],
   "source": [
    "# Rename column of directors for later merge\n",
    "df_names = df_names.rename(columns={'nconst':'directors'})"
   ]
  },
  {
   "cell_type": "code",
   "execution_count": 69,
   "id": "ecc66810",
   "metadata": {},
   "outputs": [],
   "source": [
    "df_names.drop(columns=['deathYear', 'primaryProfession', 'knownForTitles'], inplace= True)"
   ]
  },
  {
   "cell_type": "code",
   "execution_count": 70,
   "id": "8a3f4326",
   "metadata": {},
   "outputs": [
    {
     "data": {
      "text/html": [
       "<div>\n",
       "<style scoped>\n",
       "    .dataframe tbody tr th:only-of-type {\n",
       "        vertical-align: middle;\n",
       "    }\n",
       "\n",
       "    .dataframe tbody tr th {\n",
       "        vertical-align: top;\n",
       "    }\n",
       "\n",
       "    .dataframe thead th {\n",
       "        text-align: right;\n",
       "    }\n",
       "</style>\n",
       "<table border=\"1\" class=\"dataframe\">\n",
       "  <thead>\n",
       "    <tr style=\"text-align: right;\">\n",
       "      <th></th>\n",
       "      <th>directors</th>\n",
       "      <th>primaryName</th>\n",
       "      <th>birthYear</th>\n",
       "    </tr>\n",
       "  </thead>\n",
       "  <tbody>\n",
       "    <tr>\n",
       "      <th>0</th>\n",
       "      <td>nm0000001</td>\n",
       "      <td>Fred Astaire</td>\n",
       "      <td>1899</td>\n",
       "    </tr>\n",
       "    <tr>\n",
       "      <th>1</th>\n",
       "      <td>nm0000002</td>\n",
       "      <td>Lauren Bacall</td>\n",
       "      <td>1924</td>\n",
       "    </tr>\n",
       "    <tr>\n",
       "      <th>2</th>\n",
       "      <td>nm0000003</td>\n",
       "      <td>Brigitte Bardot</td>\n",
       "      <td>1934</td>\n",
       "    </tr>\n",
       "    <tr>\n",
       "      <th>3</th>\n",
       "      <td>nm0000004</td>\n",
       "      <td>John Belushi</td>\n",
       "      <td>1949</td>\n",
       "    </tr>\n",
       "    <tr>\n",
       "      <th>4</th>\n",
       "      <td>nm0000005</td>\n",
       "      <td>Ingmar Bergman</td>\n",
       "      <td>1918</td>\n",
       "    </tr>\n",
       "  </tbody>\n",
       "</table>\n",
       "</div>"
      ],
      "text/plain": [
       "   directors      primaryName birthYear\n",
       "0  nm0000001     Fred Astaire      1899\n",
       "1  nm0000002    Lauren Bacall      1924\n",
       "2  nm0000003  Brigitte Bardot      1934\n",
       "3  nm0000004     John Belushi      1949\n",
       "4  nm0000005   Ingmar Bergman      1918"
      ]
     },
     "execution_count": 70,
     "metadata": {},
     "output_type": "execute_result"
    }
   ],
   "source": [
    "df_names.head()"
   ]
  },
  {
   "cell_type": "markdown",
   "id": "8f81fdc2",
   "metadata": {},
   "source": [
    "### Merging crew and names file"
   ]
  },
  {
   "cell_type": "code",
   "execution_count": 71,
   "id": "8fc8c5d5",
   "metadata": {},
   "outputs": [],
   "source": [
    "df_crew= df_crew.merge(df_names, how='left', on='directors')"
   ]
  },
  {
   "cell_type": "code",
   "execution_count": 72,
   "id": "8faf46ca",
   "metadata": {},
   "outputs": [
    {
     "data": {
      "text/html": [
       "<div>\n",
       "<style scoped>\n",
       "    .dataframe tbody tr th:only-of-type {\n",
       "        vertical-align: middle;\n",
       "    }\n",
       "\n",
       "    .dataframe tbody tr th {\n",
       "        vertical-align: top;\n",
       "    }\n",
       "\n",
       "    .dataframe thead th {\n",
       "        text-align: right;\n",
       "    }\n",
       "</style>\n",
       "<table border=\"1\" class=\"dataframe\">\n",
       "  <thead>\n",
       "    <tr style=\"text-align: right;\">\n",
       "      <th></th>\n",
       "      <th>tconst</th>\n",
       "      <th>directors</th>\n",
       "      <th>primaryName</th>\n",
       "      <th>birthYear</th>\n",
       "    </tr>\n",
       "  </thead>\n",
       "  <tbody>\n",
       "    <tr>\n",
       "      <th>0</th>\n",
       "      <td>tt0000001</td>\n",
       "      <td>nm0005690</td>\n",
       "      <td>William K.L. Dickson</td>\n",
       "      <td>1860</td>\n",
       "    </tr>\n",
       "    <tr>\n",
       "      <th>1</th>\n",
       "      <td>tt0000002</td>\n",
       "      <td>nm0721526</td>\n",
       "      <td>Émile Reynaud</td>\n",
       "      <td>1844</td>\n",
       "    </tr>\n",
       "    <tr>\n",
       "      <th>2</th>\n",
       "      <td>tt0000003</td>\n",
       "      <td>nm0721526</td>\n",
       "      <td>Émile Reynaud</td>\n",
       "      <td>1844</td>\n",
       "    </tr>\n",
       "    <tr>\n",
       "      <th>3</th>\n",
       "      <td>tt0000004</td>\n",
       "      <td>nm0721526</td>\n",
       "      <td>Émile Reynaud</td>\n",
       "      <td>1844</td>\n",
       "    </tr>\n",
       "    <tr>\n",
       "      <th>4</th>\n",
       "      <td>tt0000005</td>\n",
       "      <td>nm0005690</td>\n",
       "      <td>William K.L. Dickson</td>\n",
       "      <td>1860</td>\n",
       "    </tr>\n",
       "  </tbody>\n",
       "</table>\n",
       "</div>"
      ],
      "text/plain": [
       "      tconst  directors           primaryName birthYear\n",
       "0  tt0000001  nm0005690  William K.L. Dickson      1860\n",
       "1  tt0000002  nm0721526         Émile Reynaud      1844\n",
       "2  tt0000003  nm0721526         Émile Reynaud      1844\n",
       "3  tt0000004  nm0721526         Émile Reynaud      1844\n",
       "4  tt0000005  nm0005690  William K.L. Dickson      1860"
      ]
     },
     "execution_count": 72,
     "metadata": {},
     "output_type": "execute_result"
    }
   ],
   "source": [
    "df_crew.head()"
   ]
  },
  {
   "cell_type": "code",
   "execution_count": 73,
   "id": "b2e83d90",
   "metadata": {},
   "outputs": [
    {
     "data": {
      "text/plain": [
       "tconst                   tt9916880\n",
       "directors      nm0584014,nm0996406\n",
       "primaryName                    NaN\n",
       "birthYear                      NaN\n",
       "Name: 10547109, dtype: object"
      ]
     },
     "execution_count": 73,
     "metadata": {},
     "output_type": "execute_result"
    }
   ],
   "source": [
    "df_crew.iloc[-1]"
   ]
  },
  {
   "cell_type": "code",
   "execution_count": 74,
   "id": "04e9cd9b",
   "metadata": {},
   "outputs": [],
   "source": [
    "# For cases with more than one director, keep the first\n",
    "df_crew['directors'] = df_crew['directors'].apply(lambda x: x.split(',')[0] if ',' in str(x) else x)"
   ]
  },
  {
   "cell_type": "markdown",
   "id": "9fa18d4c",
   "metadata": {},
   "source": [
    "### Merging Basics, Ratings and Crew Files"
   ]
  },
  {
   "cell_type": "code",
   "execution_count": 75,
   "id": "a1b021d9",
   "metadata": {},
   "outputs": [
    {
     "data": {
      "text/plain": [
       "306532"
      ]
     },
     "execution_count": 75,
     "metadata": {},
     "output_type": "execute_result"
    }
   ],
   "source": [
    "len(df_basics)"
   ]
  },
  {
   "cell_type": "code",
   "execution_count": 76,
   "id": "7dcb926a",
   "metadata": {},
   "outputs": [
    {
     "data": {
      "text/html": [
       "<div>\n",
       "<style scoped>\n",
       "    .dataframe tbody tr th:only-of-type {\n",
       "        vertical-align: middle;\n",
       "    }\n",
       "\n",
       "    .dataframe tbody tr th {\n",
       "        vertical-align: top;\n",
       "    }\n",
       "\n",
       "    .dataframe thead th {\n",
       "        text-align: right;\n",
       "    }\n",
       "</style>\n",
       "<table border=\"1\" class=\"dataframe\">\n",
       "  <thead>\n",
       "    <tr style=\"text-align: right;\">\n",
       "      <th></th>\n",
       "      <th>tconst</th>\n",
       "      <th>averageRating</th>\n",
       "      <th>numVotes</th>\n",
       "    </tr>\n",
       "  </thead>\n",
       "  <tbody>\n",
       "    <tr>\n",
       "      <th>0</th>\n",
       "      <td>tt0000001</td>\n",
       "      <td>5.7</td>\n",
       "      <td>2014</td>\n",
       "    </tr>\n",
       "    <tr>\n",
       "      <th>1</th>\n",
       "      <td>tt0000002</td>\n",
       "      <td>5.7</td>\n",
       "      <td>270</td>\n",
       "    </tr>\n",
       "    <tr>\n",
       "      <th>2</th>\n",
       "      <td>tt0000003</td>\n",
       "      <td>6.5</td>\n",
       "      <td>1937</td>\n",
       "    </tr>\n",
       "    <tr>\n",
       "      <th>3</th>\n",
       "      <td>tt0000004</td>\n",
       "      <td>5.5</td>\n",
       "      <td>178</td>\n",
       "    </tr>\n",
       "    <tr>\n",
       "      <th>4</th>\n",
       "      <td>tt0000005</td>\n",
       "      <td>6.2</td>\n",
       "      <td>2712</td>\n",
       "    </tr>\n",
       "  </tbody>\n",
       "</table>\n",
       "</div>"
      ],
      "text/plain": [
       "      tconst  averageRating  numVotes\n",
       "0  tt0000001            5.7      2014\n",
       "1  tt0000002            5.7       270\n",
       "2  tt0000003            6.5      1937\n",
       "3  tt0000004            5.5       178\n",
       "4  tt0000005            6.2      2712"
      ]
     },
     "execution_count": 76,
     "metadata": {},
     "output_type": "execute_result"
    }
   ],
   "source": [
    "df_ratings.head()"
   ]
  },
  {
   "cell_type": "code",
   "execution_count": 77,
   "id": "68e37600",
   "metadata": {},
   "outputs": [
    {
     "data": {
      "text/plain": [
       "tconst            object\n",
       "averageRating    float64\n",
       "numVotes           int64\n",
       "dtype: object"
      ]
     },
     "execution_count": 77,
     "metadata": {},
     "output_type": "execute_result"
    }
   ],
   "source": [
    "df_ratings.dtypes"
   ]
  },
  {
   "cell_type": "code",
   "execution_count": 78,
   "id": "20033150",
   "metadata": {},
   "outputs": [],
   "source": [
    "df_merge = df_basics.merge(df_ratings, how='left', on='tconst')"
   ]
  },
  {
   "cell_type": "code",
   "execution_count": 79,
   "id": "7a67a97b",
   "metadata": {},
   "outputs": [
    {
     "data": {
      "text/plain": [
       "306532"
      ]
     },
     "execution_count": 79,
     "metadata": {},
     "output_type": "execute_result"
    }
   ],
   "source": [
    "len(df_merge)"
   ]
  },
  {
   "cell_type": "code",
   "execution_count": 80,
   "id": "bfea489e",
   "metadata": {},
   "outputs": [],
   "source": [
    "df_merge = df_merge.merge(df_crew, how='left', on='tconst')"
   ]
  },
  {
   "cell_type": "code",
   "execution_count": 81,
   "id": "8514bb2b",
   "metadata": {},
   "outputs": [
    {
     "data": {
      "text/html": [
       "<div>\n",
       "<style scoped>\n",
       "    .dataframe tbody tr th:only-of-type {\n",
       "        vertical-align: middle;\n",
       "    }\n",
       "\n",
       "    .dataframe tbody tr th {\n",
       "        vertical-align: top;\n",
       "    }\n",
       "\n",
       "    .dataframe thead th {\n",
       "        text-align: right;\n",
       "    }\n",
       "</style>\n",
       "<table border=\"1\" class=\"dataframe\">\n",
       "  <thead>\n",
       "    <tr style=\"text-align: right;\">\n",
       "      <th></th>\n",
       "      <th>tconst</th>\n",
       "      <th>titleType</th>\n",
       "      <th>primaryTitle</th>\n",
       "      <th>isAdult</th>\n",
       "      <th>startYear</th>\n",
       "      <th>runtimeMinutes</th>\n",
       "      <th>genres</th>\n",
       "      <th>averageRating</th>\n",
       "      <th>numVotes</th>\n",
       "      <th>directors</th>\n",
       "      <th>primaryName</th>\n",
       "      <th>birthYear</th>\n",
       "    </tr>\n",
       "  </thead>\n",
       "  <tbody>\n",
       "    <tr>\n",
       "      <th>0</th>\n",
       "      <td>tt0013274</td>\n",
       "      <td>movie</td>\n",
       "      <td>Istoriya grazhdanskoy voyny</td>\n",
       "      <td>0</td>\n",
       "      <td>2021</td>\n",
       "      <td>94</td>\n",
       "      <td>Documentary</td>\n",
       "      <td>6.8</td>\n",
       "      <td>63.0</td>\n",
       "      <td>nm0412842</td>\n",
       "      <td>NaN</td>\n",
       "      <td>NaN</td>\n",
       "    </tr>\n",
       "    <tr>\n",
       "      <th>1</th>\n",
       "      <td>tt0015724</td>\n",
       "      <td>movie</td>\n",
       "      <td>Dama de noche</td>\n",
       "      <td>0</td>\n",
       "      <td>1993</td>\n",
       "      <td>102</td>\n",
       "      <td>Drama</td>\n",
       "      <td>6.1</td>\n",
       "      <td>28.0</td>\n",
       "      <td>nm0529960</td>\n",
       "      <td>Eva López Sánchez</td>\n",
       "      <td>1954</td>\n",
       "    </tr>\n",
       "    <tr>\n",
       "      <th>2</th>\n",
       "      <td>tt0028248</td>\n",
       "      <td>movie</td>\n",
       "      <td>Shipmates o' Mine</td>\n",
       "      <td>0</td>\n",
       "      <td>2022</td>\n",
       "      <td>87</td>\n",
       "      <td>Musical</td>\n",
       "      <td>4.2</td>\n",
       "      <td>42.0</td>\n",
       "      <td>nm0593632</td>\n",
       "      <td>Oswald Mitchell</td>\n",
       "      <td>1897</td>\n",
       "    </tr>\n",
       "    <tr>\n",
       "      <th>3</th>\n",
       "      <td>tt0035423</td>\n",
       "      <td>movie</td>\n",
       "      <td>Kate &amp; Leopold</td>\n",
       "      <td>0</td>\n",
       "      <td>2001</td>\n",
       "      <td>118</td>\n",
       "      <td>Comedy</td>\n",
       "      <td>6.4</td>\n",
       "      <td>88385.0</td>\n",
       "      <td>nm0003506</td>\n",
       "      <td>James Mangold</td>\n",
       "      <td>1963</td>\n",
       "    </tr>\n",
       "    <tr>\n",
       "      <th>4</th>\n",
       "      <td>tt0036606</td>\n",
       "      <td>movie</td>\n",
       "      <td>Another Time, Another Place</td>\n",
       "      <td>0</td>\n",
       "      <td>1983</td>\n",
       "      <td>118</td>\n",
       "      <td>Drama</td>\n",
       "      <td>6.4</td>\n",
       "      <td>350.0</td>\n",
       "      <td>nm0705535</td>\n",
       "      <td>Michael Radford</td>\n",
       "      <td>1946</td>\n",
       "    </tr>\n",
       "  </tbody>\n",
       "</table>\n",
       "</div>"
      ],
      "text/plain": [
       "      tconst titleType                 primaryTitle isAdult  startYear  \\\n",
       "0  tt0013274     movie  Istoriya grazhdanskoy voyny       0       2021   \n",
       "1  tt0015724     movie                Dama de noche       0       1993   \n",
       "2  tt0028248     movie            Shipmates o' Mine       0       2022   \n",
       "3  tt0035423     movie               Kate & Leopold       0       2001   \n",
       "4  tt0036606     movie  Another Time, Another Place       0       1983   \n",
       "\n",
       "   runtimeMinutes       genres  averageRating  numVotes  directors  \\\n",
       "0              94  Documentary            6.8      63.0  nm0412842   \n",
       "1             102        Drama            6.1      28.0  nm0529960   \n",
       "2              87      Musical            4.2      42.0  nm0593632   \n",
       "3             118       Comedy            6.4   88385.0  nm0003506   \n",
       "4             118        Drama            6.4     350.0  nm0705535   \n",
       "\n",
       "         primaryName birthYear  \n",
       "0                NaN       NaN  \n",
       "1  Eva López Sánchez      1954  \n",
       "2    Oswald Mitchell      1897  \n",
       "3      James Mangold      1963  \n",
       "4    Michael Radford      1946  "
      ]
     },
     "execution_count": 81,
     "metadata": {},
     "output_type": "execute_result"
    }
   ],
   "source": [
    "df_merge.head()"
   ]
  },
  {
   "cell_type": "markdown",
   "id": "0e82f9a1",
   "metadata": {},
   "source": [
    "## Data Cleaning"
   ]
  },
  {
   "cell_type": "markdown",
   "id": "8bc89c23",
   "metadata": {},
   "source": [
    "### Duplicates"
   ]
  },
  {
   "cell_type": "code",
   "execution_count": 82,
   "id": "368c3469",
   "metadata": {},
   "outputs": [
    {
     "data": {
      "text/plain": [
       "0"
      ]
     },
     "execution_count": 82,
     "metadata": {},
     "output_type": "execute_result"
    }
   ],
   "source": [
    "df_merge.duplicated().sum()"
   ]
  },
  {
   "cell_type": "markdown",
   "id": "7f8e002d",
   "metadata": {},
   "source": [
    "### Missing Values"
   ]
  },
  {
   "cell_type": "code",
   "execution_count": 83,
   "id": "d09781cc",
   "metadata": {},
   "outputs": [],
   "source": [
    "# Converting \"\\\\N\" values in Null values so that we can rack them together\n",
    "df_merge.replace(\"\\\\N\", np.nan, inplace=True)"
   ]
  },
  {
   "cell_type": "code",
   "execution_count": 84,
   "id": "e25b58bc",
   "metadata": {},
   "outputs": [
    {
     "data": {
      "text/plain": [
       "tconst                 0\n",
       "titleType              0\n",
       "primaryTitle           0\n",
       "isAdult                0\n",
       "startYear              0\n",
       "runtimeMinutes         0\n",
       "genres                 0\n",
       "averageRating      96082\n",
       "numVotes           96082\n",
       "directors           6309\n",
       "primaryName        37971\n",
       "birthYear         195322\n",
       "dtype: int64"
      ]
     },
     "execution_count": 84,
     "metadata": {},
     "output_type": "execute_result"
    }
   ],
   "source": [
    "df_merge.isnull().sum()"
   ]
  },
  {
   "cell_type": "code",
   "execution_count": 85,
   "id": "ed3f6620",
   "metadata": {},
   "outputs": [
    {
     "data": {
      "text/plain": [
       "birthYear         0.637199\n",
       "averageRating     0.313449\n",
       "numVotes          0.313449\n",
       "primaryName       0.123873\n",
       "directors         0.020582\n",
       "tconst            0.000000\n",
       "titleType         0.000000\n",
       "primaryTitle      0.000000\n",
       "isAdult           0.000000\n",
       "startYear         0.000000\n",
       "runtimeMinutes    0.000000\n",
       "genres            0.000000\n",
       "dtype: float64"
      ]
     },
     "execution_count": 85,
     "metadata": {},
     "output_type": "execute_result"
    }
   ],
   "source": [
    "df_merge.isnull().sum().sort_values(ascending=False)/len(df_merge)"
   ]
  },
  {
   "cell_type": "markdown",
   "id": "16449bb6",
   "metadata": {},
   "source": [
    "**Handling birth year missing entries**  \n",
    "\n",
    "63.7% of missing data -> drop the feature"
   ]
  },
  {
   "cell_type": "code",
   "execution_count": 86,
   "id": "a0b5d165",
   "metadata": {},
   "outputs": [],
   "source": [
    "df_merge.drop(columns=['birthYear'], inplace=True)"
   ]
  },
  {
   "cell_type": "markdown",
   "id": "553fc085",
   "metadata": {},
   "source": [
    "**Rating and votes**"
   ]
  },
  {
   "cell_type": "code",
   "execution_count": 87,
   "id": "ab45d323",
   "metadata": {},
   "outputs": [
    {
     "data": {
      "text/html": [
       "<div>\n",
       "<style scoped>\n",
       "    .dataframe tbody tr th:only-of-type {\n",
       "        vertical-align: middle;\n",
       "    }\n",
       "\n",
       "    .dataframe tbody tr th {\n",
       "        vertical-align: top;\n",
       "    }\n",
       "\n",
       "    .dataframe thead th {\n",
       "        text-align: right;\n",
       "    }\n",
       "</style>\n",
       "<table border=\"1\" class=\"dataframe\">\n",
       "  <thead>\n",
       "    <tr style=\"text-align: right;\">\n",
       "      <th></th>\n",
       "      <th>tconst</th>\n",
       "      <th>titleType</th>\n",
       "      <th>primaryTitle</th>\n",
       "      <th>isAdult</th>\n",
       "      <th>startYear</th>\n",
       "      <th>runtimeMinutes</th>\n",
       "      <th>genres</th>\n",
       "      <th>averageRating</th>\n",
       "      <th>numVotes</th>\n",
       "      <th>directors</th>\n",
       "      <th>primaryName</th>\n",
       "    </tr>\n",
       "  </thead>\n",
       "  <tbody>\n",
       "    <tr>\n",
       "      <th>25</th>\n",
       "      <td>tt0062896</td>\n",
       "      <td>movie</td>\n",
       "      <td>Divorcio a la andaluza</td>\n",
       "      <td>0</td>\n",
       "      <td>1975</td>\n",
       "      <td>79</td>\n",
       "      <td>Comedy</td>\n",
       "      <td>NaN</td>\n",
       "      <td>NaN</td>\n",
       "      <td>nm0951373</td>\n",
       "      <td>José María Zabalza</td>\n",
       "    </tr>\n",
       "    <tr>\n",
       "      <th>35</th>\n",
       "      <td>tt0063987</td>\n",
       "      <td>movie</td>\n",
       "      <td>Living on Credit</td>\n",
       "      <td>0</td>\n",
       "      <td>1972</td>\n",
       "      <td>87</td>\n",
       "      <td>Documentary</td>\n",
       "      <td>NaN</td>\n",
       "      <td>NaN</td>\n",
       "      <td>nm0016105</td>\n",
       "      <td>Gustavo Alatriste</td>\n",
       "    </tr>\n",
       "    <tr>\n",
       "      <th>40</th>\n",
       "      <td>tt0064430</td>\n",
       "      <td>movie</td>\n",
       "      <td>Hildur and the Magician</td>\n",
       "      <td>0</td>\n",
       "      <td>1971</td>\n",
       "      <td>95</td>\n",
       "      <td>Fantasy</td>\n",
       "      <td>NaN</td>\n",
       "      <td>NaN</td>\n",
       "      <td>nm0430071</td>\n",
       "      <td>Larry Jordan</td>\n",
       "    </tr>\n",
       "    <tr>\n",
       "      <th>133</th>\n",
       "      <td>tt0065829</td>\n",
       "      <td>movie</td>\n",
       "      <td>Hembra</td>\n",
       "      <td>0</td>\n",
       "      <td>1971</td>\n",
       "      <td>117</td>\n",
       "      <td>Crime</td>\n",
       "      <td>NaN</td>\n",
       "      <td>NaN</td>\n",
       "      <td>nm0273202</td>\n",
       "      <td>César Fernández Ardavín</td>\n",
       "    </tr>\n",
       "    <tr>\n",
       "      <th>145</th>\n",
       "      <td>tt0065939</td>\n",
       "      <td>movie</td>\n",
       "      <td>Khozyain</td>\n",
       "      <td>0</td>\n",
       "      <td>1971</td>\n",
       "      <td>99</td>\n",
       "      <td>Drama</td>\n",
       "      <td>NaN</td>\n",
       "      <td>NaN</td>\n",
       "      <td>nm0947671</td>\n",
       "      <td>Mikhail Yershov</td>\n",
       "    </tr>\n",
       "    <tr>\n",
       "      <th>...</th>\n",
       "      <td>...</td>\n",
       "      <td>...</td>\n",
       "      <td>...</td>\n",
       "      <td>...</td>\n",
       "      <td>...</td>\n",
       "      <td>...</td>\n",
       "      <td>...</td>\n",
       "      <td>...</td>\n",
       "      <td>...</td>\n",
       "      <td>...</td>\n",
       "      <td>...</td>\n",
       "    </tr>\n",
       "    <tr>\n",
       "      <th>306521</th>\n",
       "      <td>tt9916162</td>\n",
       "      <td>movie</td>\n",
       "      <td>Making of 'La Virgen de los sicarios'</td>\n",
       "      <td>0</td>\n",
       "      <td>1999</td>\n",
       "      <td>45</td>\n",
       "      <td>Documentary</td>\n",
       "      <td>NaN</td>\n",
       "      <td>NaN</td>\n",
       "      <td>nm0652213</td>\n",
       "      <td>Luis Ospina</td>\n",
       "    </tr>\n",
       "    <tr>\n",
       "      <th>306523</th>\n",
       "      <td>tt9916186</td>\n",
       "      <td>movie</td>\n",
       "      <td>Illenau - die Geschichte einer ehemaligen Heil...</td>\n",
       "      <td>0</td>\n",
       "      <td>2017</td>\n",
       "      <td>84</td>\n",
       "      <td>Documentary</td>\n",
       "      <td>NaN</td>\n",
       "      <td>NaN</td>\n",
       "      <td>nm10538274</td>\n",
       "      <td>Frank König</td>\n",
       "    </tr>\n",
       "    <tr>\n",
       "      <th>306528</th>\n",
       "      <td>tt9916622</td>\n",
       "      <td>movie</td>\n",
       "      <td>Rodolpho Teóphilo - O Legado de um Pioneiro</td>\n",
       "      <td>0</td>\n",
       "      <td>2015</td>\n",
       "      <td>57</td>\n",
       "      <td>Documentary</td>\n",
       "      <td>NaN</td>\n",
       "      <td>NaN</td>\n",
       "      <td>nm9272490</td>\n",
       "      <td>NaN</td>\n",
       "    </tr>\n",
       "    <tr>\n",
       "      <th>306529</th>\n",
       "      <td>tt9916680</td>\n",
       "      <td>movie</td>\n",
       "      <td>De la ilusión al desconcierto: cine colombiano...</td>\n",
       "      <td>0</td>\n",
       "      <td>2007</td>\n",
       "      <td>100</td>\n",
       "      <td>Documentary</td>\n",
       "      <td>NaN</td>\n",
       "      <td>NaN</td>\n",
       "      <td>nm0652213</td>\n",
       "      <td>Luis Ospina</td>\n",
       "    </tr>\n",
       "    <tr>\n",
       "      <th>306531</th>\n",
       "      <td>tt9916754</td>\n",
       "      <td>movie</td>\n",
       "      <td>Chico Albuquerque - Revelações</td>\n",
       "      <td>0</td>\n",
       "      <td>2013</td>\n",
       "      <td>49</td>\n",
       "      <td>Documentary</td>\n",
       "      <td>NaN</td>\n",
       "      <td>NaN</td>\n",
       "      <td>nm8349149</td>\n",
       "      <td>NaN</td>\n",
       "    </tr>\n",
       "  </tbody>\n",
       "</table>\n",
       "<p>96082 rows × 11 columns</p>\n",
       "</div>"
      ],
      "text/plain": [
       "           tconst titleType  \\\n",
       "25      tt0062896     movie   \n",
       "35      tt0063987     movie   \n",
       "40      tt0064430     movie   \n",
       "133     tt0065829     movie   \n",
       "145     tt0065939     movie   \n",
       "...           ...       ...   \n",
       "306521  tt9916162     movie   \n",
       "306523  tt9916186     movie   \n",
       "306528  tt9916622     movie   \n",
       "306529  tt9916680     movie   \n",
       "306531  tt9916754     movie   \n",
       "\n",
       "                                             primaryTitle isAdult  startYear  \\\n",
       "25                                 Divorcio a la andaluza       0       1975   \n",
       "35                                       Living on Credit       0       1972   \n",
       "40                                Hildur and the Magician       0       1971   \n",
       "133                                                Hembra       0       1971   \n",
       "145                                              Khozyain       0       1971   \n",
       "...                                                   ...     ...        ...   \n",
       "306521              Making of 'La Virgen de los sicarios'       0       1999   \n",
       "306523  Illenau - die Geschichte einer ehemaligen Heil...       0       2017   \n",
       "306528        Rodolpho Teóphilo - O Legado de um Pioneiro       0       2015   \n",
       "306529  De la ilusión al desconcierto: cine colombiano...       0       2007   \n",
       "306531                     Chico Albuquerque - Revelações       0       2013   \n",
       "\n",
       "        runtimeMinutes       genres  averageRating  numVotes   directors  \\\n",
       "25                  79       Comedy            NaN       NaN   nm0951373   \n",
       "35                  87  Documentary            NaN       NaN   nm0016105   \n",
       "40                  95      Fantasy            NaN       NaN   nm0430071   \n",
       "133                117        Crime            NaN       NaN   nm0273202   \n",
       "145                 99        Drama            NaN       NaN   nm0947671   \n",
       "...                ...          ...            ...       ...         ...   \n",
       "306521              45  Documentary            NaN       NaN   nm0652213   \n",
       "306523              84  Documentary            NaN       NaN  nm10538274   \n",
       "306528              57  Documentary            NaN       NaN   nm9272490   \n",
       "306529             100  Documentary            NaN       NaN   nm0652213   \n",
       "306531              49  Documentary            NaN       NaN   nm8349149   \n",
       "\n",
       "                    primaryName  \n",
       "25           José María Zabalza  \n",
       "35            Gustavo Alatriste  \n",
       "40                 Larry Jordan  \n",
       "133     César Fernández Ardavín  \n",
       "145             Mikhail Yershov  \n",
       "...                         ...  \n",
       "306521              Luis Ospina  \n",
       "306523              Frank König  \n",
       "306528                      NaN  \n",
       "306529              Luis Ospina  \n",
       "306531                      NaN  \n",
       "\n",
       "[96082 rows x 11 columns]"
      ]
     },
     "execution_count": 87,
     "metadata": {},
     "output_type": "execute_result"
    }
   ],
   "source": [
    "df_merge[df_merge['averageRating'].isnull()]"
   ]
  },
  {
   "cell_type": "code",
   "execution_count": 88,
   "id": "83b2770e",
   "metadata": {},
   "outputs": [
    {
     "data": {
      "text/plain": [
       "2016    5079\n",
       "2017    5012\n",
       "2015    4970\n",
       "2022    4937\n",
       "2018    4931\n",
       "2014    4838\n",
       "2021    4765\n",
       "2019    4580\n",
       "2013    4560\n",
       "2012    4282\n",
       "2020    4079\n",
       "2011    3822\n",
       "2010    3719\n",
       "2009    3183\n",
       "2008    2662\n",
       "2007    2148\n",
       "2006    1929\n",
       "2005    1753\n",
       "2004    1477\n",
       "2003    1298\n",
       "2002    1054\n",
       "2001     974\n",
       "2000     912\n",
       "1990     857\n",
       "1997     787\n",
       "1998     780\n",
       "1989     780\n",
       "1988     768\n",
       "1999     755\n",
       "1987     733\n",
       "1992     730\n",
       "1995     712\n",
       "1991     711\n",
       "1986     696\n",
       "1996     690\n",
       "1985     685\n",
       "1984     680\n",
       "1983     663\n",
       "1994     662\n",
       "1980     644\n",
       "1981     640\n",
       "1982     615\n",
       "1976     596\n",
       "1993     585\n",
       "1975     580\n",
       "1978     571\n",
       "1971     557\n",
       "1979     544\n",
       "1974     540\n",
       "1972     527\n",
       "1977     519\n",
       "1973     511\n",
       "Name: startYear, dtype: int64"
      ]
     },
     "execution_count": 88,
     "metadata": {},
     "output_type": "execute_result"
    }
   ],
   "source": [
    "df_merge[df_merge['averageRating'].isnull()]['startYear'].value_counts()"
   ]
  },
  {
   "cell_type": "code",
   "execution_count": 89,
   "id": "8a488cf5",
   "metadata": {},
   "outputs": [
    {
     "data": {
      "text/html": [
       "<div>\n",
       "<style scoped>\n",
       "    .dataframe tbody tr th:only-of-type {\n",
       "        vertical-align: middle;\n",
       "    }\n",
       "\n",
       "    .dataframe tbody tr th {\n",
       "        vertical-align: top;\n",
       "    }\n",
       "\n",
       "    .dataframe thead th {\n",
       "        text-align: right;\n",
       "    }\n",
       "</style>\n",
       "<table border=\"1\" class=\"dataframe\">\n",
       "  <thead>\n",
       "    <tr style=\"text-align: right;\">\n",
       "      <th></th>\n",
       "      <th>averageRating</th>\n",
       "    </tr>\n",
       "    <tr>\n",
       "      <th>startYear</th>\n",
       "      <th></th>\n",
       "    </tr>\n",
       "  </thead>\n",
       "  <tbody>\n",
       "    <tr>\n",
       "      <th>2013</th>\n",
       "      <td>6.241269</td>\n",
       "    </tr>\n",
       "    <tr>\n",
       "      <th>2014</th>\n",
       "      <td>6.259270</td>\n",
       "    </tr>\n",
       "    <tr>\n",
       "      <th>2015</th>\n",
       "      <td>6.229540</td>\n",
       "    </tr>\n",
       "    <tr>\n",
       "      <th>2016</th>\n",
       "      <td>6.236882</td>\n",
       "    </tr>\n",
       "    <tr>\n",
       "      <th>2017</th>\n",
       "      <td>6.206300</td>\n",
       "    </tr>\n",
       "    <tr>\n",
       "      <th>2018</th>\n",
       "      <td>6.141048</td>\n",
       "    </tr>\n",
       "    <tr>\n",
       "      <th>2019</th>\n",
       "      <td>6.155435</td>\n",
       "    </tr>\n",
       "    <tr>\n",
       "      <th>2020</th>\n",
       "      <td>6.123368</td>\n",
       "    </tr>\n",
       "    <tr>\n",
       "      <th>2021</th>\n",
       "      <td>6.197894</td>\n",
       "    </tr>\n",
       "    <tr>\n",
       "      <th>2022</th>\n",
       "      <td>6.376645</td>\n",
       "    </tr>\n",
       "  </tbody>\n",
       "</table>\n",
       "</div>"
      ],
      "text/plain": [
       "           averageRating\n",
       "startYear               \n",
       "2013            6.241269\n",
       "2014            6.259270\n",
       "2015            6.229540\n",
       "2016            6.236882\n",
       "2017            6.206300\n",
       "2018            6.141048\n",
       "2019            6.155435\n",
       "2020            6.123368\n",
       "2021            6.197894\n",
       "2022            6.376645"
      ]
     },
     "execution_count": 89,
     "metadata": {},
     "output_type": "execute_result"
    }
   ],
   "source": [
    "avg_ratings = df_merge.groupby('startYear')[['averageRating']].mean()\n",
    "avg_ratings.tail(10)"
   ]
  },
  {
   "cell_type": "code",
   "execution_count": 90,
   "id": "55c582ba",
   "metadata": {},
   "outputs": [],
   "source": [
    "# Custom function to replace null values (in ratings) with rating average of the specific year\n",
    "def custom_imputer(row):\n",
    "    year = row['startYear']\n",
    "    if pd.isnull(row['averageRating']):\n",
    "        return float(avg_ratings[avg_ratings.index== year]['averageRating'])\n",
    "\n",
    "    else:\n",
    "        return row['averageRating']"
   ]
  },
  {
   "cell_type": "code",
   "execution_count": 91,
   "id": "c2ee1b74",
   "metadata": {},
   "outputs": [
    {
     "data": {
      "text/plain": [
       "tconst                0\n",
       "titleType             0\n",
       "primaryTitle          0\n",
       "isAdult               0\n",
       "startYear             0\n",
       "runtimeMinutes        0\n",
       "genres                0\n",
       "averageRating         0\n",
       "numVotes          96082\n",
       "directors          6309\n",
       "primaryName       37971\n",
       "dtype: int64"
      ]
     },
     "execution_count": 91,
     "metadata": {},
     "output_type": "execute_result"
    }
   ],
   "source": [
    "df_merge['averageRating']=df_merge.apply(custom_imputer, axis=1)\n",
    "df_merge.isnull().sum()"
   ]
  },
  {
   "cell_type": "code",
   "execution_count": 92,
   "id": "946ec867",
   "metadata": {},
   "outputs": [
    {
     "data": {
      "text/html": [
       "<div>\n",
       "<style scoped>\n",
       "    .dataframe tbody tr th:only-of-type {\n",
       "        vertical-align: middle;\n",
       "    }\n",
       "\n",
       "    .dataframe tbody tr th {\n",
       "        vertical-align: top;\n",
       "    }\n",
       "\n",
       "    .dataframe thead th {\n",
       "        text-align: right;\n",
       "    }\n",
       "</style>\n",
       "<table border=\"1\" class=\"dataframe\">\n",
       "  <thead>\n",
       "    <tr style=\"text-align: right;\">\n",
       "      <th></th>\n",
       "      <th>numVotes</th>\n",
       "    </tr>\n",
       "    <tr>\n",
       "      <th>startYear</th>\n",
       "      <th></th>\n",
       "    </tr>\n",
       "  </thead>\n",
       "  <tbody>\n",
       "    <tr>\n",
       "      <th>2013</th>\n",
       "      <td>5679.094213</td>\n",
       "    </tr>\n",
       "    <tr>\n",
       "      <th>2014</th>\n",
       "      <td>5378.605819</td>\n",
       "    </tr>\n",
       "    <tr>\n",
       "      <th>2015</th>\n",
       "      <td>4123.209011</td>\n",
       "    </tr>\n",
       "    <tr>\n",
       "      <th>2016</th>\n",
       "      <td>4262.084187</td>\n",
       "    </tr>\n",
       "    <tr>\n",
       "      <th>2017</th>\n",
       "      <td>3728.366967</td>\n",
       "    </tr>\n",
       "    <tr>\n",
       "      <th>2018</th>\n",
       "      <td>3403.999581</td>\n",
       "    </tr>\n",
       "    <tr>\n",
       "      <th>2019</th>\n",
       "      <td>3529.690639</td>\n",
       "    </tr>\n",
       "    <tr>\n",
       "      <th>2020</th>\n",
       "      <td>2231.438571</td>\n",
       "    </tr>\n",
       "    <tr>\n",
       "      <th>2021</th>\n",
       "      <td>3106.371305</td>\n",
       "    </tr>\n",
       "    <tr>\n",
       "      <th>2022</th>\n",
       "      <td>2920.817662</td>\n",
       "    </tr>\n",
       "  </tbody>\n",
       "</table>\n",
       "</div>"
      ],
      "text/plain": [
       "              numVotes\n",
       "startYear             \n",
       "2013       5679.094213\n",
       "2014       5378.605819\n",
       "2015       4123.209011\n",
       "2016       4262.084187\n",
       "2017       3728.366967\n",
       "2018       3403.999581\n",
       "2019       3529.690639\n",
       "2020       2231.438571\n",
       "2021       3106.371305\n",
       "2022       2920.817662"
      ]
     },
     "execution_count": 92,
     "metadata": {},
     "output_type": "execute_result"
    }
   ],
   "source": [
    "avg_votes = df_merge.groupby('startYear')[['numVotes']].mean()\n",
    "avg_votes.tail(10)"
   ]
  },
  {
   "cell_type": "code",
   "execution_count": 93,
   "id": "d155b65b",
   "metadata": {},
   "outputs": [],
   "source": [
    "# Custom function to replace null values (in votes) with votes average of the specific year\n",
    "def custom_imputer_2(row):\n",
    "    year = row['startYear']\n",
    "    if pd.isnull(row['numVotes']):\n",
    "        return float(avg_votes[avg_votes.index== year]['numVotes'])\n",
    "\n",
    "    else:\n",
    "        return row['numVotes']"
   ]
  },
  {
   "cell_type": "code",
   "execution_count": 94,
   "id": "da7142d2",
   "metadata": {},
   "outputs": [
    {
     "data": {
      "text/plain": [
       "tconst                0\n",
       "titleType             0\n",
       "primaryTitle          0\n",
       "isAdult               0\n",
       "startYear             0\n",
       "runtimeMinutes        0\n",
       "genres                0\n",
       "averageRating         0\n",
       "numVotes              0\n",
       "directors          6309\n",
       "primaryName       37971\n",
       "dtype: int64"
      ]
     },
     "execution_count": 94,
     "metadata": {},
     "output_type": "execute_result"
    }
   ],
   "source": [
    "df_merge['numVotes']=df_merge.apply(custom_imputer_2, axis=1)\n",
    "df_merge.isnull().sum()"
   ]
  },
  {
   "cell_type": "markdown",
   "id": "a1a879ef",
   "metadata": {},
   "source": [
    "**Directos and Primary Name**  \n",
    "\n",
    "Directors column can be dropped since its just a key we used to merge the information.  \n",
    "Primary Names can be left with null values, it will just be a helper to search movies."
   ]
  },
  {
   "cell_type": "code",
   "execution_count": 95,
   "id": "8641c45a",
   "metadata": {},
   "outputs": [],
   "source": [
    "df_merge.drop(columns=['directors'], inplace=True)\n",
    "df_merge.rename(columns={'primaryName': 'Director'}, inplace=True)"
   ]
  },
  {
   "cell_type": "code",
   "execution_count": 96,
   "id": "5a462c1f",
   "metadata": {},
   "outputs": [],
   "source": [
    "# Save to csv\n",
    "df_merge.to_csv(path_or_buf=os.path.join(clean_dir,'clean_df.csv'), index=False)"
   ]
  },
  {
   "cell_type": "code",
   "execution_count": null,
   "id": "7b2b2e18",
   "metadata": {},
   "outputs": [],
   "source": []
  }
 ],
 "metadata": {
  "kernelspec": {
   "display_name": "Python 3 (ipykernel)",
   "language": "python",
   "name": "python3"
  },
  "language_info": {
   "codemirror_mode": {
    "name": "ipython",
    "version": 3
   },
   "file_extension": ".py",
   "mimetype": "text/x-python",
   "name": "python",
   "nbconvert_exporter": "python",
   "pygments_lexer": "ipython3",
   "version": "3.10.6"
  },
  "toc": {
   "base_numbering": 1,
   "nav_menu": {},
   "number_sections": true,
   "sideBar": true,
   "skip_h1_title": false,
   "title_cell": "Table of Contents",
   "title_sidebar": "Contents",
   "toc_cell": false,
   "toc_position": {},
   "toc_section_display": true,
   "toc_window_display": false
  }
 },
 "nbformat": 4,
 "nbformat_minor": 5
}
